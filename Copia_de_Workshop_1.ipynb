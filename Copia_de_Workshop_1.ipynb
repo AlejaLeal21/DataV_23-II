{
  "nbformat": 4,
  "nbformat_minor": 0,
  "metadata": {
    "colab": {
      "provenance": [],
      "include_colab_link": true
    },
    "kernelspec": {
      "name": "python3",
      "display_name": "Python 3"
    },
    "language_info": {
      "name": "python"
    }
  },
  "cells": [
    {
      "cell_type": "markdown",
      "metadata": {
        "id": "view-in-github",
        "colab_type": "text"
      },
      "source": [
        "<a href=\"https://colab.research.google.com/github/AlejaLeal21/DataV_23-II/blob/main/Copia_de_Workshop_1.ipynb\" target=\"_parent\"><img src=\"https://colab.research.google.com/assets/colab-badge.svg\" alt=\"Open In Colab\"/></a>"
      ]
    },
    {
      "cell_type": "markdown",
      "source": [
        "<h1 align = \"center\">\n",
        "<strong> Universidad de La Salle </strong>\n",
        "</h1>\n",
        "\n",
        "<h1 align = \"center\">\n",
        "<strong> Finance and International Commerce Program </strong>\n",
        "</h1>\n",
        "\n",
        "<h1 align = \"center\">\n",
        "<strong> Data Visualization - Workshop 1 </strong>\n",
        "</h1>\n"
      ],
      "metadata": {
        "id": "BJolccUZSw9G"
      }
    },
    {
      "cell_type": "markdown",
      "source": [
        "# **Instructions**\n",
        "\n",
        "1. Please read carefully the document. Ask all the questions you may have.\n",
        "2. Save this file in your Google Drive.\n",
        "3. DO NOT alter any cell unless it specifically ask you to do it.\n",
        "4. You will have **two hours** (until 11am) maximum to finish and deliver this workshop.\n",
        "5. You can use any help you want: your notes, your codes, internet, classmates.\n",
        "6. Nevertheless, the workshop must be presented individually.\n",
        "7. Once you have finish, save a copy in your GitHub class repository.\n",
        "8. The deliver process is as follows:\n",
        "    \n",
        "    8.1. Via email you will send the link to the GitHub location.\n",
        "    \n",
        "    8.2. In the same mail, just for safety, you will attach a copy of your `.ipynb` file.\n",
        "    \n",
        "    8.3. The email must have the subject: \"W1 DV\".   "
      ],
      "metadata": {
        "id": "pLRc5RAyWsre"
      }
    },
    {
      "cell_type": "markdown",
      "source": [
        "# **To keep in mind**\n",
        "\n",
        "* The excercises propouse are intended to **push** you a little futher in your Pyton skills.\n",
        "* This means that there are going to be exercises above the level seen in class.\n",
        "* The idea is to incentive your creative thinking and solving problem skills.\n",
        "* As always there several ways to do the excersice. But in this case, I ask you to use only the tools we learned.\n",
        "* I ask you to trust me. Give your best effort. Grades do not matter here."
      ],
      "metadata": {
        "id": "4QKdNKujZEbk"
      }
    },
    {
      "cell_type": "markdown",
      "source": [
        "# **Exercise Set**"
      ],
      "metadata": {
        "id": "2kRoSKUmaGl9"
      }
    },
    {
      "cell_type": "markdown",
      "source": [
        "## Ex 1.\n",
        "\n",
        "In the cell code below, first create a variable with your full name then write the appropiate code, using *split*, to print your full name as this:\n",
        "\n",
        "`First Name: José` &nbsp;   &nbsp;   &nbsp;   &nbsp;   &nbsp; `Middle Name: Rodrigo`\n",
        "\n",
        "`First Last  Name: Vélez` &nbsp;   &nbsp;   &nbsp;   &nbsp;   &nbsp; `Second Last Name: Molano`"
      ],
      "metadata": {
        "id": "LAdWe8iEaL7B"
      }
    },
    {
      "cell_type": "code",
      "execution_count": null,
      "metadata": {
        "id": "rw792kISSt3n",
        "outputId": "6be15808-f703-4932-f138-bff02326a2d5",
        "colab": {
          "base_uri": "https://localhost:8080/"
        }
      },
      "outputs": [
        {
          "output_type": "stream",
          "name": "stdout",
          "text": [
            "First Name: Laura\n",
            "Middle Name: Alejandra\n",
            "First Last Name: Pineda\n",
            "Second Last Name: Leal\n"
          ]
        }
      ],
      "source": [
        "# Answ. Ex 1\n",
        "# (write your code below)\n",
        "full_name= 'Laura Alejandra Pineda Leal'\n",
        "print(\"First Name:\", full_name.split(\" \")[0])\n",
        "print(\"Middle Name:\", full_name.split(\" \")[1])\n",
        "print(\"First Last Name:\", full_name.split(\" \")[2])\n",
        "print(\"Second Last Name:\", full_name.split(\" \")[3])\n"
      ]
    },
    {
      "cell_type": "markdown",
      "source": [
        "## Ex 2.\n",
        "\n",
        "In the cell code below, you are given two random numbers `x` and `y`.\n",
        "\n",
        "Write the appropiate code to print the result of dividing `x` by all its precedents rounded by `y` decimal positions.\n",
        "\n",
        "This is an example of the expected result for `x = 15` and `y = 2`:\n",
        "\n",
        "`15 / 1 = 15.00`\n",
        "\n",
        "`15 / 2 = 7.50`\n",
        "\n",
        "`15 / 3 = 5.00`\n",
        "\n",
        "`...`\n",
        "\n",
        "`15 / 15 = 1.00`\n",
        "\n",
        "**JUST IN CASE!** You must use the variables given to you"
      ],
      "metadata": {
        "id": "YFsGiwcNfgzP"
      }
    },
    {
      "cell_type": "code",
      "source": [
        "# Answ. Ex 2\n",
        "###################################\n",
        "#      DO NOT MODIFY THIS PART    #\n",
        "import numpy as np\n",
        "x = round(np.random.uniform(12,22))\n",
        "y = round(np.random.uniform(1,4))\n",
        "###################################\n",
        "\n",
        "# (write your code below)\n",
        "\n",
        "print(\"The division table of\",x, \"with\",y,\"decimals.\")\n",
        "for i in range (1,x+1): print(x,\"/\",i,\"=\", round(x/i,y))\n"
      ],
      "metadata": {
        "id": "Dwdsh30Ti3vl",
        "outputId": "a05798b8-78ba-40e2-fe1d-d99ba25420d6",
        "colab": {
          "base_uri": "https://localhost:8080/"
        }
      },
      "execution_count": null,
      "outputs": [
        {
          "output_type": "stream",
          "name": "stdout",
          "text": [
            "The division table of 13 with 3 decimals.\n",
            "13 / 1 = 13.0\n",
            "13 / 2 = 6.5\n",
            "13 / 3 = 4.333\n",
            "13 / 4 = 3.25\n",
            "13 / 5 = 2.6\n",
            "13 / 6 = 2.167\n",
            "13 / 7 = 1.857\n",
            "13 / 8 = 1.625\n",
            "13 / 9 = 1.444\n",
            "13 / 10 = 1.3\n",
            "13 / 11 = 1.182\n",
            "13 / 12 = 1.083\n",
            "13 / 13 = 1.0\n"
          ]
        }
      ]
    },
    {
      "cell_type": "markdown",
      "source": [
        "## Ex 3.\n",
        "\n",
        "The Fibonnaci sequence is a sequence constructed by the process:\n",
        "\n",
        "$x_{i} = x_{i-1} + x_{i-2}$\n",
        "\n",
        "where $x_{1} = x_{2} = 1$.\n",
        "\n",
        "Below you are given a random number `z`, write the appropiate code to calculate and print the `z`th position of the Fibonnaci sequence.\n",
        "\n",
        "\n"
      ],
      "metadata": {
        "id": "PYIRNu3imJ_n"
      }
    },
    {
      "cell_type": "code",
      "source": [
        "# Answ. Ex 3\n",
        "###################################\n",
        "#      DO NOT MODIFY THIS PART    #\n",
        "import numpy as np\n",
        "z = round(np.random.uniform(50,100))\n",
        "###################################\n",
        "\n",
        "# (write your code below)\n",
        "\n",
        "X1=1\n",
        "X2=1\n",
        "X= X1+X2\n",
        "X1=X2\n",
        "X2=X\n",
        "X=X1+X2\n",
        "print(\"The Fibbonaci sequency secuences is\")\n",
        "for i in range(4,z+1):\n",
        "  X=X1+X2\n",
        "  print(\"Position\",i,\"th: \",X)\n",
        "  X1=X2\n",
        "  X2=X\n",
        "\n",
        "\n",
        "\n"
      ],
      "metadata": {
        "id": "wntlZUatp9uE",
        "outputId": "b4151dab-3d32-4433-b2f2-3592cc1f2ee6",
        "colab": {
          "base_uri": "https://localhost:8080/"
        }
      },
      "execution_count": null,
      "outputs": [
        {
          "output_type": "stream",
          "name": "stdout",
          "text": [
            "The Fibbonaci sequency secuences is\n",
            "Position 4 th:  3\n",
            "Position 5 th:  5\n",
            "Position 6 th:  8\n",
            "Position 7 th:  13\n",
            "Position 8 th:  21\n",
            "Position 9 th:  34\n",
            "Position 10 th:  55\n",
            "Position 11 th:  89\n",
            "Position 12 th:  144\n",
            "Position 13 th:  233\n",
            "Position 14 th:  377\n",
            "Position 15 th:  610\n",
            "Position 16 th:  987\n",
            "Position 17 th:  1597\n",
            "Position 18 th:  2584\n",
            "Position 19 th:  4181\n",
            "Position 20 th:  6765\n",
            "Position 21 th:  10946\n",
            "Position 22 th:  17711\n",
            "Position 23 th:  28657\n",
            "Position 24 th:  46368\n",
            "Position 25 th:  75025\n",
            "Position 26 th:  121393\n",
            "Position 27 th:  196418\n",
            "Position 28 th:  317811\n",
            "Position 29 th:  514229\n",
            "Position 30 th:  832040\n",
            "Position 31 th:  1346269\n",
            "Position 32 th:  2178309\n",
            "Position 33 th:  3524578\n",
            "Position 34 th:  5702887\n",
            "Position 35 th:  9227465\n",
            "Position 36 th:  14930352\n",
            "Position 37 th:  24157817\n",
            "Position 38 th:  39088169\n",
            "Position 39 th:  63245986\n",
            "Position 40 th:  102334155\n",
            "Position 41 th:  165580141\n",
            "Position 42 th:  267914296\n",
            "Position 43 th:  433494437\n",
            "Position 44 th:  701408733\n",
            "Position 45 th:  1134903170\n",
            "Position 46 th:  1836311903\n",
            "Position 47 th:  2971215073\n",
            "Position 48 th:  4807526976\n",
            "Position 49 th:  7778742049\n",
            "Position 50 th:  12586269025\n",
            "Position 51 th:  20365011074\n",
            "Position 52 th:  32951280099\n",
            "Position 53 th:  53316291173\n",
            "Position 54 th:  86267571272\n",
            "Position 55 th:  139583862445\n",
            "Position 56 th:  225851433717\n",
            "Position 57 th:  365435296162\n",
            "Position 58 th:  591286729879\n",
            "Position 59 th:  956722026041\n",
            "Position 60 th:  1548008755920\n",
            "Position 61 th:  2504730781961\n",
            "Position 62 th:  4052739537881\n",
            "Position 63 th:  6557470319842\n",
            "Position 64 th:  10610209857723\n",
            "Position 65 th:  17167680177565\n",
            "Position 66 th:  27777890035288\n",
            "Position 67 th:  44945570212853\n",
            "Position 68 th:  72723460248141\n",
            "Position 69 th:  117669030460994\n",
            "Position 70 th:  190392490709135\n",
            "Position 71 th:  308061521170129\n",
            "Position 72 th:  498454011879264\n",
            "Position 73 th:  806515533049393\n",
            "Position 74 th:  1304969544928657\n",
            "Position 75 th:  2111485077978050\n",
            "Position 76 th:  3416454622906707\n",
            "Position 77 th:  5527939700884757\n",
            "Position 78 th:  8944394323791464\n",
            "Position 79 th:  14472334024676221\n",
            "Position 80 th:  23416728348467685\n",
            "Position 81 th:  37889062373143906\n",
            "Position 82 th:  61305790721611591\n",
            "Position 83 th:  99194853094755497\n",
            "Position 84 th:  160500643816367088\n",
            "Position 85 th:  259695496911122585\n",
            "Position 86 th:  420196140727489673\n",
            "Position 87 th:  679891637638612258\n",
            "Position 88 th:  1100087778366101931\n",
            "Position 89 th:  1779979416004714189\n",
            "Position 90 th:  2880067194370816120\n",
            "Position 91 th:  4660046610375530309\n",
            "Position 92 th:  7540113804746346429\n",
            "Position 93 th:  12200160415121876738\n",
            "Position 94 th:  19740274219868223167\n",
            "Position 95 th:  31940434634990099905\n",
            "Position 96 th:  51680708854858323072\n",
            "Position 97 th:  83621143489848422977\n",
            "Position 98 th:  135301852344706746049\n",
            "Position 99 th:  218922995834555169026\n",
            "Position 100 th:  354224848179261915075\n"
          ]
        }
      ]
    },
    {
      "cell_type": "code",
      "source": [],
      "metadata": {
        "id": "JNdYLGxE_3_H"
      },
      "execution_count": null,
      "outputs": []
    },
    {
      "cell_type": "markdown",
      "source": [
        "## Ex 4.\n",
        "\n",
        "Create a string variable with the name of your favorite music artist or group.Write the appropiate code to print it in reversed order.\n",
        "\n",
        "*Example:*\n",
        "\n",
        "`w = 'Dog'`\n",
        "\n",
        "Expected result: `'goD'`.\n",
        "\n",
        "\n",
        "\n"
      ],
      "metadata": {
        "id": "2t2WnRieqLoc"
      }
    },
    {
      "cell_type": "code",
      "source": [
        "# Answ. Ex 4\n",
        "# (write your code below)\n",
        "\n",
        "w=\"Morat\"\n",
        "print(\"W=\",w)\n",
        "print((\"Morat\")[::-1])"
      ],
      "metadata": {
        "id": "FQU_vc_5sse0",
        "colab": {
          "base_uri": "https://localhost:8080/"
        },
        "outputId": "f48d35f8-cfeb-45b8-9f9f-0b67b74a8cb9"
      },
      "execution_count": 6,
      "outputs": [
        {
          "output_type": "stream",
          "name": "stdout",
          "text": [
            "W= Morat\n",
            "taroM\n"
          ]
        }
      ]
    }
  ]
}